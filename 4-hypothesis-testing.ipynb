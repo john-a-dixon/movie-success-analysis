{
 "cells": [
  {
   "attachments": {},
   "cell_type": "markdown",
   "metadata": {},
   "source": [
    "# **Hypothesis Testing**\n",
    "\n",
    "_John Andrew Dixon_\n",
    "\n",
    "---\n",
    "\n",
    "##### **Imports**"
   ]
  },
  {
   "cell_type": "code",
   "execution_count": null,
   "metadata": {},
   "outputs": [],
   "source": []
  },
  {
   "attachments": {},
   "cell_type": "markdown",
   "metadata": {},
   "source": [
    "---"
   ]
  },
  {
   "attachments": {},
   "cell_type": "markdown",
   "metadata": {},
   "source": [
    "> ##### **_Note On The Data_**\n",
    "> This project states the following regarding the data to use:\n",
    "> <pre>\n",
    "> <b><em>Define a smaller (but logical) period of time to use for your analyses (e.g. last 10 years, 2010-2019/pre-pandemic, etc).</em></b>\n",
    "> </pre>\n",
    "> So, I defined my data as the first decade of the 21st century (2001-2010), and I'll only be analyzing movies from this time period.\n",
    ">\n",
    "> I retrieved the rest of this data within the `2a-efficient-API.ipynb` file and combined the files at the end of the `2b-EDA.ipynb`. I then reran the `3-SQL.ipynb` to add the new data to the database."
   ]
  },
  {
   "attachments": {},
   "cell_type": "markdown",
   "metadata": {},
   "source": [
    "Does the MPAA rating of a movie (G/PG/PG-13/R) affect how much revenue the movie generates"
   ]
  },
  {
   "cell_type": "markdown",
   "metadata": {},
   "source": [
    "Do movies that are over 2.5 hours long earn more revenue than movies that are 1.5 hours long (or less)?"
   ]
  }
 ],
 "metadata": {
  "kernelspec": {
   "display_name": "dojo-env",
   "language": "python",
   "name": "python3"
  },
  "language_info": {
   "name": "python",
   "version": "3.9.15"
  },
  "orig_nbformat": 4
 },
 "nbformat": 4,
 "nbformat_minor": 2
}
