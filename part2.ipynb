{
 "cells": [
  {
   "attachments": {},
   "cell_type": "markdown",
   "metadata": {},
   "source": [
    "# **TMBD API Extraction**\n",
    "\n",
    "_John Andrew Dixon_\n",
    "\n",
    "---"
   ]
  },
  {
   "attachments": {},
   "cell_type": "markdown",
   "metadata": {},
   "source": [
    "##### **Imports**"
   ]
  },
  {
   "cell_type": "code",
   "execution_count": 24,
   "metadata": {},
   "outputs": [],
   "source": [
    "import json, os, time\n",
    "import pandas as pd\n",
    "import tmdbsimple as tmdb\n",
    "from tqdm.notebook import tqdm_notebook"
   ]
  },
  {
   "attachments": {},
   "cell_type": "markdown",
   "metadata": {},
   "source": [
    "##### **Helper Functions**"
   ]
  },
  {
   "cell_type": "code",
   "execution_count": 14,
   "metadata": {},
   "outputs": [],
   "source": [
    "def get_movie_with_rating(movie_id):\n",
    "    \"\"\"Using the TMDB API, retrieves movie info and rating based on a given movie_id\"\"\"\n",
    "\n",
    "    # Using the TMDB API, get movie based on \"movie_id\"\n",
    "    movie = tmdb.Movies(movie_id)\n",
    "\n",
    "    # Save movie info to a variable\n",
    "    info = movie.info()\n",
    "    # Save movie releases to a variable\n",
    "    releases = movie.releases()\n",
    "\n",
    "    # Loop through all releases for each country\n",
    "    for country in releases[\"countries\"]:\n",
    "        # If the country is US, add the certification to the info dictionary\n",
    "        if country[\"iso_3166_1\"] == \"US\":\n",
    "            info[\"certification\"] = country[\"certification\"]\n",
    "\n",
    "    # Return the info dictionary\n",
    "    return info"
   ]
  },
  {
   "cell_type": "code",
   "execution_count": 15,
   "metadata": {},
   "outputs": [],
   "source": [
    "def write_json(new_data, filename):\n",
    "    \"\"\"Appends a list of records (new_data) to a json file (filename). \n",
    "    Adapted from: https://www.geeksforgeeks.org/append-to-json-file-using-python/\"\"\"\n",
    "\n",
    "    with open(filename, \"r+\") as file:\n",
    "        # Load existing data as a dictionary\n",
    "        file_data = json.load(file)\n",
    "\n",
    "        # Choose to extend or append\n",
    "        if (type(new_data) == list) & (type(file_data) == list):\n",
    "            file_data.extend(new_data)\n",
    "        else:\n",
    "            file_data.append(new_data)\n",
    "\n",
    "        # Set file's current position at offset\n",
    "        file.seek(0)\n",
    "\n",
    "        # Convert back to JSON\n",
    "        json.dump(file_data, file)"
   ]
  },
  {
   "attachments": {},
   "cell_type": "markdown",
   "metadata": {},
   "source": [
    "##### **Data Load**"
   ]
  },
  {
   "cell_type": "code",
   "execution_count": 16,
   "metadata": {},
   "outputs": [
    {
     "data": {
      "text/html": [
       "<div>\n",
       "<style scoped>\n",
       "    .dataframe tbody tr th:only-of-type {\n",
       "        vertical-align: middle;\n",
       "    }\n",
       "\n",
       "    .dataframe tbody tr th {\n",
       "        vertical-align: top;\n",
       "    }\n",
       "\n",
       "    .dataframe thead th {\n",
       "        text-align: right;\n",
       "    }\n",
       "</style>\n",
       "<table border=\"1\" class=\"dataframe\">\n",
       "  <thead>\n",
       "    <tr style=\"text-align: right;\">\n",
       "      <th></th>\n",
       "      <th>tconst</th>\n",
       "      <th>titleType</th>\n",
       "      <th>primaryTitle</th>\n",
       "      <th>originalTitle</th>\n",
       "      <th>isAdult</th>\n",
       "      <th>startYear</th>\n",
       "      <th>endYear</th>\n",
       "      <th>runtimeMinutes</th>\n",
       "      <th>genres</th>\n",
       "    </tr>\n",
       "  </thead>\n",
       "  <tbody>\n",
       "    <tr>\n",
       "      <th>0</th>\n",
       "      <td>tt0035423</td>\n",
       "      <td>movie</td>\n",
       "      <td>Kate &amp; Leopold</td>\n",
       "      <td>Kate &amp; Leopold</td>\n",
       "      <td>0</td>\n",
       "      <td>2001.0</td>\n",
       "      <td>NaN</td>\n",
       "      <td>118</td>\n",
       "      <td>Comedy,Fantasy,Romance</td>\n",
       "    </tr>\n",
       "    <tr>\n",
       "      <th>1</th>\n",
       "      <td>tt0062336</td>\n",
       "      <td>movie</td>\n",
       "      <td>The Tango of the Widower and Its Distorting Mi...</td>\n",
       "      <td>El tango del viudo y su espejo deformante</td>\n",
       "      <td>0</td>\n",
       "      <td>2020.0</td>\n",
       "      <td>NaN</td>\n",
       "      <td>70</td>\n",
       "      <td>Drama</td>\n",
       "    </tr>\n",
       "    <tr>\n",
       "      <th>2</th>\n",
       "      <td>tt0069049</td>\n",
       "      <td>movie</td>\n",
       "      <td>The Other Side of the Wind</td>\n",
       "      <td>The Other Side of the Wind</td>\n",
       "      <td>0</td>\n",
       "      <td>2018.0</td>\n",
       "      <td>NaN</td>\n",
       "      <td>122</td>\n",
       "      <td>Drama</td>\n",
       "    </tr>\n",
       "    <tr>\n",
       "      <th>3</th>\n",
       "      <td>tt0088751</td>\n",
       "      <td>movie</td>\n",
       "      <td>The Naked Monster</td>\n",
       "      <td>The Naked Monster</td>\n",
       "      <td>0</td>\n",
       "      <td>2005.0</td>\n",
       "      <td>NaN</td>\n",
       "      <td>100</td>\n",
       "      <td>Comedy,Horror,Sci-Fi</td>\n",
       "    </tr>\n",
       "    <tr>\n",
       "      <th>4</th>\n",
       "      <td>tt0096056</td>\n",
       "      <td>movie</td>\n",
       "      <td>Crime and Punishment</td>\n",
       "      <td>Crime and Punishment</td>\n",
       "      <td>0</td>\n",
       "      <td>2002.0</td>\n",
       "      <td>NaN</td>\n",
       "      <td>126</td>\n",
       "      <td>Drama</td>\n",
       "    </tr>\n",
       "  </tbody>\n",
       "</table>\n",
       "</div>"
      ],
      "text/plain": [
       "      tconst titleType                                       primaryTitle  \\\n",
       "0  tt0035423     movie                                     Kate & Leopold   \n",
       "1  tt0062336     movie  The Tango of the Widower and Its Distorting Mi...   \n",
       "2  tt0069049     movie                         The Other Side of the Wind   \n",
       "3  tt0088751     movie                                  The Naked Monster   \n",
       "4  tt0096056     movie                               Crime and Punishment   \n",
       "\n",
       "                               originalTitle  isAdult  startYear  endYear  \\\n",
       "0                             Kate & Leopold        0     2001.0      NaN   \n",
       "1  El tango del viudo y su espejo deformante        0     2020.0      NaN   \n",
       "2                 The Other Side of the Wind        0     2018.0      NaN   \n",
       "3                          The Naked Monster        0     2005.0      NaN   \n",
       "4                       Crime and Punishment        0     2002.0      NaN   \n",
       "\n",
       "   runtimeMinutes                  genres  \n",
       "0             118  Comedy,Fantasy,Romance  \n",
       "1              70                   Drama  \n",
       "2             122                   Drama  \n",
       "3             100    Comedy,Horror,Sci-Fi  \n",
       "4             126                   Drama  "
      ]
     },
     "execution_count": 16,
     "metadata": {},
     "output_type": "execute_result"
    }
   ],
   "source": [
    "# Load the previous \"basics\" file from part 1\n",
    "basics_df = pd.read_csv(\"Data/title_basics.csv.gz\")\n",
    "# Verify it loaded\n",
    "basics_df.head()"
   ]
  },
  {
   "attachments": {},
   "cell_type": "markdown",
   "metadata": {},
   "source": [
    "---\n",
    "\n",
    "## **Efficient TMBD API Extraction**"
   ]
  },
  {
   "cell_type": "code",
   "execution_count": 17,
   "metadata": {},
   "outputs": [
    {
     "data": {
      "text/plain": [
       "['title_akas.csv.gz', 'title_basics.csv.gz', 'title_ratings.csv.gz']"
      ]
     },
     "execution_count": 17,
     "metadata": {},
     "output_type": "execute_result"
    }
   ],
   "source": [
    "# Specify the folder where data will be saved\n",
    "FOLDER = \"Data/\"\n",
    "# Create the folder; if it exists, move on\n",
    "os.makedirs(FOLDER, exist_ok=True)\n",
    "# List folder's contents\n",
    "os.listdir(FOLDER)"
   ]
  },
  {
   "cell_type": "code",
   "execution_count": 18,
   "metadata": {},
   "outputs": [
    {
     "data": {
      "text/plain": [
       "dict_keys(['api-key'])"
      ]
     },
     "execution_count": 18,
     "metadata": {},
     "output_type": "execute_result"
    }
   ],
   "source": [
    "# Load API Key\n",
    "with open(\"/Users/johna/.secret/tmdb_api.json\", \"r\") as f:\n",
    "    login = json.load(f)\n",
    "login.keys()"
   ]
  },
  {
   "cell_type": "code",
   "execution_count": 19,
   "metadata": {},
   "outputs": [],
   "source": [
    "# Link API Key with API\n",
    "tmdb.API_KEY = login[\"api-key\"]"
   ]
  },
  {
   "cell_type": "code",
   "execution_count": 20,
   "metadata": {},
   "outputs": [],
   "source": [
    "# Specify years to get\n",
    "YEARS_TO_GET = [2000, 2001]\n",
    "# Create empty list to hold potential errors\n",
    "errors = []"
   ]
  },
  {
   "cell_type": "code",
   "execution_count": 30,
   "metadata": {},
   "outputs": [
    {
     "data": {
      "application/vnd.jupyter.widget-view+json": {
       "model_id": "60915d8f68dd4b7e8169f176e5bd67ca",
       "version_major": 2,
       "version_minor": 0
      },
      "text/plain": [
       "YEARS:   0%|          | 0/2 [00:00<?, ?it/s]"
      ]
     },
     "metadata": {},
     "output_type": "display_data"
    },
    {
     "name": "stdout",
     "output_type": "stream",
     "text": [
      "8        tt0113026\n",
      "9        tt0113092\n",
      "11       tt0115937\n",
      "12       tt0116391\n",
      "13       tt0116628\n",
      "           ...    \n",
      "81728    tt8327752\n",
      "82491    tt8553964\n",
      "83609    tt8907070\n",
      "83758    tt8954964\n",
      "85236    tt9412476\n",
      "Name: tconst, Length: 1444, dtype: object\n",
      "0        tt0035423\n",
      "10       tt0114447\n",
      "17       tt0118589\n",
      "18       tt0118652\n",
      "23       tt0119004\n",
      "           ...    \n",
      "84208    tt9071078\n",
      "84684    tt9212730\n",
      "84719    tt9228234\n",
      "85539    tt9555974\n",
      "85599    tt9578462\n",
      "Name: tconst, Length: 1568, dtype: object\n"
     ]
    }
   ],
   "source": [
    "# Loop through the years and display progress as progress bar\n",
    "for YEAR in tqdm_notebook(YEARS_TO_GET, desc=\"YEARS\", position=0):\n",
    "    # Create a JSON file for the current YEAR in FOLDER\n",
    "    JSON_FILE = f\"{FOLDER}tmdb_api_results_{YEAR}.json\"\n",
    "\n",
    "    # Check if JSON_FILE exists\n",
    "    file_exists = os.path.isfile(JSON_FILE)\n",
    "    # If the file does not exists, create and populate it\n",
    "    if not file_exists:\n",
    "        with open(JSON_FILE, \"w\") as file:\n",
    "            json.dump([{\"imdb_id\": 0}], file)\n",
    "\n",
    "    # Filter the \"basics_df\" by the current YEAR\n",
    "    year_df = basics_df.loc[basics_df[\"startYear\"] == YEAR].copy()\n",
    "    # Get the movie IDs from movies of the current year\n",
    "    movie_ids = year_df[\"tconst\"].copy()\n",
    "\n",
    "    # Load in previous results\n",
    "    previous_df = pd.read_json(JSON_FILE)\n",
    "    # Filter out the movie ids to get based on what was previous gotten\n",
    "    movie_ids_to_get = movie_ids[~movie_ids.isin(previous_df[\"imdb_id\"])]"
   ]
  },
  {
   "cell_type": "code",
   "execution_count": 21,
   "metadata": {},
   "outputs": [],
   "source": [
    "# test = get_movie_with_rating(\"tt0848228\")\n",
    "# test"
   ]
  },
  {
   "cell_type": "code",
   "execution_count": 22,
   "metadata": {},
   "outputs": [],
   "source": [
    "# test_ids = [\"tt0848228\", \"tt0115937\",\"tt0332280\"]\n",
    "# results = []\n",
    "\n",
    "# for movie_id in test_ids:\n",
    "    \n",
    "#     try:\n",
    "#         movie_info = get_movie_with_rating(movie_id)\n",
    "#         results.append(movie_info)\n",
    "        \n",
    "#     except Exception as e:\n",
    "#         errors.append((movie_id, e))\n",
    "    \n",
    "# pd.DataFrame(results)"
   ]
  },
  {
   "cell_type": "code",
   "execution_count": 23,
   "metadata": {},
   "outputs": [],
   "source": [
    "# errors"
   ]
  }
 ],
 "metadata": {
  "kernelspec": {
   "display_name": "dojo-env",
   "language": "python",
   "name": "python3"
  },
  "language_info": {
   "codemirror_mode": {
    "name": "ipython",
    "version": 3
   },
   "file_extension": ".py",
   "mimetype": "text/x-python",
   "name": "python",
   "nbconvert_exporter": "python",
   "pygments_lexer": "ipython3",
   "version": "3.9.15"
  },
  "orig_nbformat": 4
 },
 "nbformat": 4,
 "nbformat_minor": 2
}
