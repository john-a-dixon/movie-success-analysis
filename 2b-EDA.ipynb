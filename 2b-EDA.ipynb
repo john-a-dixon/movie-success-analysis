{
 "cells": [
  {
   "attachments": {},
   "cell_type": "markdown",
   "metadata": {},
   "source": [
    "# **TMBD Exploratory Data Analysis**\n",
    "\n",
    "_John Andrew Dixon_\n",
    "\n",
    "---"
   ]
  },
  {
   "attachments": {},
   "cell_type": "markdown",
   "metadata": {},
   "source": [
    "##### **Imports**"
   ]
  },
  {
   "cell_type": "code",
   "execution_count": 53,
   "metadata": {},
   "outputs": [],
   "source": [
    "import os\n",
    "import pandas as pd\n",
    "import matplotlib.pyplot as plt\n",
    "import seaborn as sns"
   ]
  },
  {
   "attachments": {},
   "cell_type": "markdown",
   "metadata": {},
   "source": [
    "##### **Data Load**"
   ]
  },
  {
   "cell_type": "code",
   "execution_count": 54,
   "metadata": {},
   "outputs": [
    {
     "name": "stdout",
     "output_type": "stream",
     "text": [
      "<class 'pandas.core.frame.DataFrame'>\n",
      "RangeIndex: 1235 entries, 0 to 1234\n",
      "Data columns (total 26 columns):\n",
      " #   Column                 Non-Null Count  Dtype  \n",
      "---  ------                 --------------  -----  \n",
      " 0   imdb_id                1235 non-null   object \n",
      " 1   adult                  1234 non-null   float64\n",
      " 2   backdrop_path          679 non-null    object \n",
      " 3   belongs_to_collection  113 non-null    object \n",
      " 4   budget                 1234 non-null   float64\n",
      " 5   genres                 1234 non-null   object \n",
      " 6   homepage               64 non-null     object \n",
      " 7   id                     1234 non-null   float64\n",
      " 8   original_language      1234 non-null   object \n",
      " 9   original_title         1234 non-null   object \n",
      " 10  overview               1212 non-null   object \n",
      " 11  popularity             1234 non-null   float64\n",
      " 12  poster_path            1112 non-null   object \n",
      " 13  production_companies   1234 non-null   object \n",
      " 14  production_countries   1234 non-null   object \n",
      " 15  release_date           1227 non-null   object \n",
      " 16  revenue                1234 non-null   float64\n",
      " 17  runtime                1234 non-null   float64\n",
      " 18  spoken_languages       1234 non-null   object \n",
      " 19  status                 1234 non-null   object \n",
      " 20  tagline                547 non-null    object \n",
      " 21  title                  1234 non-null   object \n",
      " 22  video                  1234 non-null   float64\n",
      " 23  vote_average           1234 non-null   float64\n",
      " 24  vote_count             1234 non-null   float64\n",
      " 25  certification          391 non-null    object \n",
      "dtypes: float64(9), object(17)\n",
      "memory usage: 251.0+ KB\n"
     ]
    }
   ],
   "source": [
    "movies_2000 = pd.read_csv(\"Data/final_tmdb_data_2000.csv.gz\")\n",
    "movies_2000.info()"
   ]
  },
  {
   "cell_type": "code",
   "execution_count": 55,
   "metadata": {},
   "outputs": [
    {
     "name": "stdout",
     "output_type": "stream",
     "text": [
      "<class 'pandas.core.frame.DataFrame'>\n",
      "RangeIndex: 1329 entries, 0 to 1328\n",
      "Data columns (total 26 columns):\n",
      " #   Column                 Non-Null Count  Dtype  \n",
      "---  ------                 --------------  -----  \n",
      " 0   imdb_id                1329 non-null   object \n",
      " 1   adult                  1328 non-null   float64\n",
      " 2   backdrop_path          711 non-null    object \n",
      " 3   belongs_to_collection  93 non-null     object \n",
      " 4   budget                 1328 non-null   float64\n",
      " 5   genres                 1328 non-null   object \n",
      " 6   homepage               109 non-null    object \n",
      " 7   id                     1328 non-null   float64\n",
      " 8   original_language      1328 non-null   object \n",
      " 9   original_title         1328 non-null   object \n",
      " 10  overview               1299 non-null   object \n",
      " 11  popularity             1328 non-null   float64\n",
      " 12  poster_path            1193 non-null   object \n",
      " 13  production_companies   1328 non-null   object \n",
      " 14  production_countries   1328 non-null   object \n",
      " 15  release_date           1317 non-null   object \n",
      " 16  revenue                1328 non-null   float64\n",
      " 17  runtime                1328 non-null   float64\n",
      " 18  spoken_languages       1328 non-null   object \n",
      " 19  status                 1328 non-null   object \n",
      " 20  tagline                552 non-null    object \n",
      " 21  title                  1328 non-null   object \n",
      " 22  video                  1328 non-null   float64\n",
      " 23  vote_average           1328 non-null   float64\n",
      " 24  vote_count             1328 non-null   float64\n",
      " 25  certification          424 non-null    object \n",
      "dtypes: float64(9), object(17)\n",
      "memory usage: 270.1+ KB\n"
     ]
    }
   ],
   "source": [
    "movies_2001 = pd.read_csv(\"Data/final_tmdb_data_2001.csv.gz\")\n",
    "movies_2001.info()"
   ]
  },
  {
   "attachments": {},
   "cell_type": "markdown",
   "metadata": {},
   "source": [
    "---\n",
    "\n",
    "## **Combine DataFrames & Save**"
   ]
  },
  {
   "cell_type": "code",
   "execution_count": 56,
   "metadata": {},
   "outputs": [
    {
     "name": "stdout",
     "output_type": "stream",
     "text": [
      "<class 'pandas.core.frame.DataFrame'>\n",
      "Int64Index: 2564 entries, 0 to 1328\n",
      "Data columns (total 26 columns):\n",
      " #   Column                 Non-Null Count  Dtype  \n",
      "---  ------                 --------------  -----  \n",
      " 0   imdb_id                2564 non-null   object \n",
      " 1   adult                  2562 non-null   float64\n",
      " 2   backdrop_path          1390 non-null   object \n",
      " 3   belongs_to_collection  206 non-null    object \n",
      " 4   budget                 2562 non-null   float64\n",
      " 5   genres                 2562 non-null   object \n",
      " 6   homepage               173 non-null    object \n",
      " 7   id                     2562 non-null   float64\n",
      " 8   original_language      2562 non-null   object \n",
      " 9   original_title         2562 non-null   object \n",
      " 10  overview               2511 non-null   object \n",
      " 11  popularity             2562 non-null   float64\n",
      " 12  poster_path            2305 non-null   object \n",
      " 13  production_companies   2562 non-null   object \n",
      " 14  production_countries   2562 non-null   object \n",
      " 15  release_date           2544 non-null   object \n",
      " 16  revenue                2562 non-null   float64\n",
      " 17  runtime                2562 non-null   float64\n",
      " 18  spoken_languages       2562 non-null   object \n",
      " 19  status                 2562 non-null   object \n",
      " 20  tagline                1099 non-null   object \n",
      " 21  title                  2562 non-null   object \n",
      " 22  video                  2562 non-null   float64\n",
      " 23  vote_average           2562 non-null   float64\n",
      " 24  vote_count             2562 non-null   float64\n",
      " 25  certification          815 non-null    object \n",
      "dtypes: float64(9), object(17)\n",
      "memory usage: 540.8+ KB\n"
     ]
    }
   ],
   "source": [
    "# Combine the DataFrames\n",
    "final_df = pd.concat([movies_2000, movies_2001])\n",
    "final_df.info()"
   ]
  },
  {
   "cell_type": "code",
   "execution_count": 57,
   "metadata": {},
   "outputs": [],
   "source": [
    "# Define the path to the file.\n",
    "FILE = \"Data/tmdb_results_combined.csv.gz\"\n",
    "# Check if it exists\n",
    "file_exists = os.path.isfile(FILE)\n",
    "# If the file does not exist, create it with pandas\n",
    "if not file_exists:\n",
    "    final_df.to_csv(FILE, compression=\"gzip\", index=False)"
   ]
  },
  {
   "cell_type": "code",
   "execution_count": 58,
   "metadata": {},
   "outputs": [
    {
     "name": "stdout",
     "output_type": "stream",
     "text": [
      "<class 'pandas.core.frame.DataFrame'>\n",
      "RangeIndex: 2564 entries, 0 to 2563\n",
      "Data columns (total 26 columns):\n",
      " #   Column                 Non-Null Count  Dtype  \n",
      "---  ------                 --------------  -----  \n",
      " 0   imdb_id                2564 non-null   object \n",
      " 1   adult                  2562 non-null   float64\n",
      " 2   backdrop_path          1390 non-null   object \n",
      " 3   belongs_to_collection  206 non-null    object \n",
      " 4   budget                 2562 non-null   float64\n",
      " 5   genres                 2562 non-null   object \n",
      " 6   homepage               173 non-null    object \n",
      " 7   id                     2562 non-null   float64\n",
      " 8   original_language      2562 non-null   object \n",
      " 9   original_title         2562 non-null   object \n",
      " 10  overview               2511 non-null   object \n",
      " 11  popularity             2562 non-null   float64\n",
      " 12  poster_path            2305 non-null   object \n",
      " 13  production_companies   2562 non-null   object \n",
      " 14  production_countries   2562 non-null   object \n",
      " 15  release_date           2544 non-null   object \n",
      " 16  revenue                2562 non-null   float64\n",
      " 17  runtime                2562 non-null   float64\n",
      " 18  spoken_languages       2562 non-null   object \n",
      " 19  status                 2562 non-null   object \n",
      " 20  tagline                1099 non-null   object \n",
      " 21  title                  2562 non-null   object \n",
      " 22  video                  2562 non-null   float64\n",
      " 23  vote_average           2562 non-null   float64\n",
      " 24  vote_count             2562 non-null   float64\n",
      " 25  certification          815 non-null    object \n",
      "dtypes: float64(9), object(17)\n",
      "memory usage: 520.9+ KB\n"
     ]
    }
   ],
   "source": [
    "# Verify it correctly saved by reloading the data via the saved file path\n",
    "final_df = pd.read_csv(\"Data/tmdb_results_combined.csv.gz\")\n",
    "final_df.info()"
   ]
  },
  {
   "attachments": {},
   "cell_type": "markdown",
   "metadata": {},
   "source": [
    "## **Exploratory Data Analysis**"
   ]
  },
  {
   "attachments": {},
   "cell_type": "markdown",
   "metadata": {},
   "source": [
    "Let's first see how many movies have valid financial info:"
   ]
  },
  {
   "cell_type": "code",
   "execution_count": 59,
   "metadata": {},
   "outputs": [],
   "source": [
    "# Get the number of movies that had valid budget data\n",
    "valid_revenue = pd.DataFrame({\"Valid Revenue (>$0)\": final_df[\"revenue\"] > 0})\n",
    "# Get the number of movies that had valid revenue data\n",
    "valid_budget = pd.DataFrame({\"Valid Budget (>$0)\": final_df[\"budget\"] > 0})"
   ]
  },
  {
   "cell_type": "code",
   "execution_count": 65,
   "metadata": {},
   "outputs": [
    {
     "data": {
      "image/png": "[encoded data removed]",
      "text/plain": [
       "<Figure size 1200x500 with 2 Axes>"
      ]
     },
     "metadata": {},
     "output_type": "display_data"
    }
   ],
   "source": [
    "# Create subplots\n",
    "fig, axes = plt.subplots(nrows=1, ncols=2, figsize=(12, 5))\n",
    "\n",
    "sns.countplot(data=valid_revenue, x=\"Valid Revenue (>$0)\", ax=axes[0]).set_title(\"Movies With Valid Revenue Info (>$0)\")\n",
    "sns.countplot(data=valid_budget, x=\"Valid Budget (>$0)\", ax=axes[1]).set_title(\"Movies With Valid Budget Info (>$0)\");"
   ]
  },
  {
   "attachments": {},
   "cell_type": "markdown",
   "metadata": {},
   "source": [
    "Most of the movies gathered from the TMDb API have invalid revenue and or budget info. With that in mind, I'll only consider movies that hav valid financial info going forward:"
   ]
  }
 ],
 "metadata": {
  "kernelspec": {
   "display_name": "dojo-env",
   "language": "python",
   "name": "python3"
  },
  "language_info": {
   "codemirror_mode": {
    "name": "ipython",
    "version": 3
   },
   "file_extension": ".py",
   "mimetype": "text/x-python",
   "name": "python",
   "nbconvert_exporter": "python",
   "pygments_lexer": "ipython3",
   "version": "3.9.15"
  },
  "orig_nbformat": 4
 },
 "nbformat": 4,
 "nbformat_minor": 2
}
